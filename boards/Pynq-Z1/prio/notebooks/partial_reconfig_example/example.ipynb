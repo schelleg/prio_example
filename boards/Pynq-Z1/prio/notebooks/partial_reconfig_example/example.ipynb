{
 "cells": [
  {
   "cell_type": "code",
   "execution_count": 1,
   "metadata": {},
   "outputs": [
    {
     "data": {
      "application/javascript": [
       "\n",
       "require(['notebook/js/codecell'], function(codecell) {\n",
       "  codecell.CodeCell.options_default.highlight_modes[\n",
       "      'magic_text/x-csrc'] = {'reg':[/^%%microblaze/]};\n",
       "  Jupyter.notebook.events.one('kernel_ready.Kernel', function(){\n",
       "      Jupyter.notebook.get_cells().map(function(cell){\n",
       "          if (cell.cell_type == 'code'){ cell.auto_highlight(); } }) ;\n",
       "  });\n",
       "});\n"
      ]
     },
     "metadata": {},
     "output_type": "display_data"
    },
    {
     "name": "stdout",
     "output_type": "stream",
     "text": [
      "/usr/local/lib/python3.6/dist-packages/pynq/lib/rpi/bsp_iop_rpi/system.mss not found: using default cflags\n",
      "/usr/local/lib/python3.6/dist-packages/pynq/lib/arduino/bsp_iop_arduino/system.mss not found: using default cflags\n",
      "/usr/local/lib/python3.6/dist-packages/pynq/lib/pmod/bsp_iop_pmod/system.mss not found: using default cflags\n"
     ]
    }
   ],
   "source": [
    "import os\n",
    "from pynq.pl import Bitstream"
   ]
  },
  {
   "cell_type": "code",
   "execution_count": 2,
   "metadata": {},
   "outputs": [
    {
     "name": "stdout",
     "output_type": "stream",
     "text": [
      "gpio_pr.bin\n"
     ]
    }
   ],
   "source": [
    "full_bit = Bitstream(\"gpio_pr.bit\")\n",
    "bin_file = os.path.basename(full_bit.bitfile_name).replace('.bit', '.bin')\n",
    "full_bit.bin_path = bin_file\n",
    "print(full_bit.bin_path)\n",
    "full_bin = full_bit.convert_bit_to_bin()"
   ]
  },
  {
   "cell_type": "code",
   "execution_count": 3,
   "metadata": {},
   "outputs": [
    {
     "name": "stdout",
     "output_type": "stream",
     "text": [
      "gpio_pr_i_gpio_0_rm_led_0_partial.bin\n",
      "gpio_pr_i_gpio_0_rm_led_5_partial.bin\n",
      "gpio_pr_i_gpio_0_rm_led_a_partial.bin\n"
     ]
    }
   ],
   "source": [
    "for i in ['gpio_pr_i_gpio_0_rm_led_0_partial.bit',\n",
    "          'gpio_pr_i_gpio_0_rm_led_5_partial.bit',\n",
    "          'gpio_pr_i_gpio_0_rm_led_a_partial.bit']:\n",
    "    partial_bit = Bitstream(i)\n",
    "    bin_file = os.path.basename(partial_bit.bitfile_name).replace('.bit', \n",
    "                                                                  '.bin')\n",
    "    partial_bit.bin_path = bin_file\n",
    "    print(partial_bit.bin_path)\n",
    "    partial_bin = partial_bit.convert_bit_to_bin()"
   ]
  },
  {
   "cell_type": "code",
   "execution_count": 4,
   "metadata": {},
   "outputs": [],
   "source": [
    "!mkdir -p /lib/firmware\n",
    "!cp gpio_pr.bin /lib/firmware/\n",
    "!echo 0 > /sys/class/fpga_manager/fpga0/flags\n",
    "!echo gpio_pr.bin  > /sys/class/fpga_manager/fpga0/firmware"
   ]
  },
  {
   "cell_type": "code",
   "execution_count": 5,
   "metadata": {},
   "outputs": [],
   "source": [
    "!cp gpio_pr_i_gpio_0_rm_led_5_partial.bin /lib/firmware/\n",
    "!echo 1 > /sys/class/fpga_manager/fpga0/flags\n",
    "!echo gpio_pr_i_gpio_0_rm_led_5_partial.bin > /sys/class/fpga_manager/fpga0/firmware"
   ]
  },
  {
   "cell_type": "code",
   "execution_count": 6,
   "metadata": {},
   "outputs": [],
   "source": [
    "!cp gpio_pr_i_gpio_0_rm_led_a_partial.bin /lib/firmware/\n",
    "!echo 1 > /sys/class/fpga_manager/fpga0/flags\n",
    "!echo gpio_pr_i_gpio_0_rm_led_a_partial.bin > /sys/class/fpga_manager/fpga0/firmware"
   ]
  }
 ],
 "metadata": {
  "kernelspec": {
   "display_name": "Python 3",
   "language": "python",
   "name": "python3"
  },
  "language_info": {
   "codemirror_mode": {
    "name": "ipython",
    "version": 3
   },
   "file_extension": ".py",
   "mimetype": "text/x-python",
   "name": "python",
   "nbconvert_exporter": "python",
   "pygments_lexer": "ipython3",
   "version": "3.6.5"
  }
 },
 "nbformat": 4,
 "nbformat_minor": 2
}
